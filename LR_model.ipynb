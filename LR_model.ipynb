{
 "cells": [
  {
   "cell_type": "code",
   "execution_count": 1,
   "metadata": {},
   "outputs": [],
   "source": [
    "import pandas as pd\n",
    "import numpy as np\n",
    "import gensim\n",
    "from gensim.models import doc2vec\n",
    "from sklearn.model_selection import train_test_split\n",
    "from sklearn.linear_model import LogisticRegression\n",
    "from gensim.models.doc2vec import TaggedDocument\n",
    "from sklearn import utils\n",
    "from sklearn.metrics import accuracy_score,hamming_loss,f1_score,recall_score,roc_auc_score\n",
    "from sklearn.preprocessing import MultiLabelBinarizer\n",
    "from sklearn.feature_extraction.text import TfidfVectorizer\n",
    "\n",
    "df = pd.read_csv('../data_set/data_set.csv')\n",
    "df.genres = df['genres'].apply(eval)\n",
    "df.text_stopword = df['text_stopword'].apply(eval)\n",
    "df.text_clean = df['text_clean'].astype(str)\n",
    "df.head()\n",
    "categories = [\n",
    "    'Drama',\n",
    "    'Comedy',\n",
    "    'Thriller',\n",
    "    'Action',\n",
    "    'Romance',\n",
    "    'Adventure',\n",
    "    'Crime',\n",
    "    'Science Fiction',\n",
    "    'Horror',\n",
    "    'Family',\n",
    "    'Fantasy',\n",
    "    'Mystery',\n",
    "    'Animation',\n",
    "    'History',\n",
    "    'Music',\n",
    "    'War',\n",
    "    'Documentary',\n",
    "    'Western',\n",
    "    'Foreign',\n",
    "    'TV Movie'\n",
    "]\n",
    "\n",
    "\n",
    "multilabel_binarizer = MultiLabelBinarizer()\n",
    "multilabel_binarizer.fit_transform(df['genres'])\n",
    "\n",
    "y = multilabel_binarizer.transform(df['genres'])\n",
    "\n",
    "for idx, genre in enumerate(multilabel_binarizer.classes_):\n",
    "  df[genre] = y[:,idx]\n",
    "  \n",
    "import pickle\n",
    "vectorizer = pickle.load(open('../word2vec/tfidf.pkl','rb')) \n",
    "X = vectorizer.fit_transform(df['text_clean'])\n",
    "y = df[categories].copy()\n",
    "X_train,X_test,y_train,y_test = train_test_split(X,y,test_size=0.3,random_state=42,shuffle=True)\n"
   ]
  },
  {
   "cell_type": "code",
   "execution_count": 2,
   "metadata": {},
   "outputs": [],
   "source": [
    "from sklearn.linear_model import LogisticRegression\n",
    "from sklearn.pipeline import Pipeline\n",
    "from sklearn.metrics import f1_score\n",
    "from sklearn.metrics import roc_auc_score\n",
    "from sklearn.metrics import precision_score\n",
    "from sklearn.metrics import recall_score\n",
    "from sklearn.metrics import accuracy_score\n",
    "from sklearn.multiclass import OneVsRestClassifier\n",
    "from sklearn.svm import SVC"
   ]
  },
  {
   "cell_type": "code",
   "execution_count": 3,
   "metadata": {},
   "outputs": [
    {
     "name": "stdout",
     "output_type": "stream",
     "text": [
      "Test averaged Accuracy is 0.9059333795975016\n",
      "Test averaged F1 is 0.9059333795975016\n",
      "Test averaged Hamming Loss is 0.09406662040249827\n",
      "Test averaged AUC-ROC is 0.5579568343830046\n"
     ]
    }
   ],
   "source": [
    "LR_pipeline = Pipeline([('clf', OneVsRestClassifier(SVC(kernel='linear',probability=True), n_jobs=-1))])\n",
    "\n",
    "accuracy = 0\n",
    "f1 = 0\n",
    "h1 = 0\n",
    "auc_roc = 0\n",
    "i = 0    \n",
    "for category in categories[:]:\n",
    "    LR_pipeline.fit(X_train,y_train[category])\n",
    "\n",
    "    prediction = LR_pipeline.predict(X_test)\n",
    "    accuracy +=  accuracy_score(y_test[category],prediction)\n",
    "    f1 += f1_score(y_test[category],prediction,average = 'micro')\n",
    "    h1 += hamming_loss(y_test[category],prediction)\n",
    "    auc_roc += roc_auc_score(y_test[category],prediction)\n",
    "\n",
    "\n",
    "\n",
    "print('Test averaged Accuracy is {}'.format(accuracy/len(categories[:])))\n",
    "print('Test averaged F1 is {}'.format(f1/len(categories[:])))\n",
    "print('Test averaged Hamming Loss is {}'.format(h1/len(categories[:])))\n",
    "print('Test averaged AUC-ROC is {}'.format(auc_roc/len(categories[:])))"
   ]
  },
  {
   "cell_type": "code",
   "execution_count": 4,
   "metadata": {},
   "outputs": [],
   "source": [
    "import pickle\n",
    "model = LR_pipeline.fit(X_train,y_train[category])\n",
    "pickle.dump(model,open('../word2vec/LR_model.pkl',\"wb\"))"
   ]
  },
  {
   "cell_type": "code",
   "execution_count": 8,
   "metadata": {},
   "outputs": [],
   "source": [
    "model = LR_pipeline.fit(X_train,y_train[category])\n",
    "\n",
    "with open('../word2vec/model.pickle', mode='wb') as f:\n",
    "    pickle.dump(model,f,protocol=2)"
   ]
  },
  {
   "cell_type": "code",
   "execution_count": 12,
   "metadata": {},
   "outputs": [],
   "source": [
    "prediction = model.predict"
   ]
  }
 ],
 "metadata": {
  "kernelspec": {
   "display_name": "Python 3.9.12 ('python_env')",
   "language": "python",
   "name": "python3"
  },
  "language_info": {
   "codemirror_mode": {
    "name": "ipython",
    "version": 3
   },
   "file_extension": ".py",
   "mimetype": "text/x-python",
   "name": "python",
   "nbconvert_exporter": "python",
   "pygments_lexer": "ipython3",
   "version": "3.9.12"
  },
  "orig_nbformat": 4,
  "vscode": {
   "interpreter": {
    "hash": "35b290c867abec49e678f0862ea8e735e80ffaf71f968c1382421763d8743a32"
   }
  }
 },
 "nbformat": 4,
 "nbformat_minor": 2
}
