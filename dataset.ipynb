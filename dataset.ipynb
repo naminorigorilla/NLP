{
 "cells": [
  {
   "cell_type": "code",
   "execution_count": 1,
   "metadata": {},
   "outputs": [],
   "source": [
    "import pandas as pd\n",
    "import numpy as np\n",
    "import matplotlib.pyplot as plt\n",
    "from ast import literal_eval\n",
    "#ast.literal_eval()は文字列をリストや辞書に変換するモジュール\n",
    "\n",
    "#自然言語処理\n",
    "import nltk\n",
    "import string\n",
    "%matplotlib inline\n",
    "from nltk.stem import WordNetLemmatizer\n",
    "from nltk import word_tokenize\n",
    "from nltk.tag import pos_tag\n",
    "import string\n",
    "\n",
    "df2 = pd.read_csv('../data_set/tmdb_5000_movies.csv')\n",
    "df1 = pd.read_csv('../data_set/tmdb_5000_credits.csv')\n",
    "\n",
    "df1.columns= ['id','title','cast','crew']\n",
    "df2 = df2.merge(df1,on = 'id')\n",
    "\n",
    "features = [\"cast\",\"crew\",\"keywords\",\"genres\"]\n",
    "for feature in features:\n",
    "    df2[feature]= df2[feature].apply(literal_eval)\n",
    "\n",
    "def get_director(x):\n",
    "    for i in x :\n",
    "        if i[\"job\"] == \"Director\":\n",
    "            return i[\"name\"]\n",
    "    return np.nan\n",
    "\n",
    "def get_list(x):\n",
    "    if isinstance(x,list):\n",
    "        names = [i[\"name\"] for i in x]\n",
    "\n",
    "        if len(names)>3:\n",
    "            names= names[:3]\n",
    "        return names\n",
    "\n",
    "    return[]\n",
    "\n",
    "df2[\"director\"] = df2[\"crew\"].apply(get_director)\n",
    "\n",
    "features = [\"cast\",\"keywords\",\"genres\"]\n",
    "for feature in features:\n",
    "    df2[feature] = df2[feature].apply(get_list)\n",
    "\n",
    "def clean_data(x):\n",
    "    if isinstance(x, list):\n",
    "        return [str.lower(i.replace(\" \", \"\")) for i in x]\n",
    "    else:\n",
    "        #Check if director exists. If not, return empty string\n",
    "        if isinstance(x, str):\n",
    "            return str.lower(x.replace(\" \", \"\"))\n",
    "        else:\n",
    "            return ''\n",
    "\n",
    "df = df2.rename({'title_x':'title'},axis = 1)\n",
    "df = df[['title','genres','director','overview']]\n",
    "## トークン化\n",
    "df['_overview'] = df['overview'].astype(str).str.lower()\n",
    "\n",
    "\n",
    "df['text_string'] = [text.translate(str.maketrans('', '', string.punctuation)) for text in df['_overview']]"
   ]
  },
  {
   "cell_type": "code",
   "execution_count": 2,
   "metadata": {},
   "outputs": [],
   "source": [
    "import re \n",
    "def clean_text(text):\n",
    "    text = text.lower()\n",
    "    text = re.sub(r\"what's\", \"what is \", text)\n",
    "    text = re.sub(r\"\\'s\", \" \", text)\n",
    "    text = re.sub(r\"\\'ve\", \" have \", text)\n",
    "    text = re.sub(r\"can't\", \"can not \", text)\n",
    "    text = re.sub(r\"n't\", \" not \", text)\n",
    "    text = re.sub(r\"i'm\", \"i am \", text)\n",
    "    text = re.sub(r\"\\'re\", \" are \", text)\n",
    "    text = re.sub(r\"\\'d\", \" would \", text)\n",
    "    text = re.sub(r\"\\'ll\", \" will \", text)\n",
    "    text = re.sub(r\"\\'scuse\", \" excuse \", text)\n",
    "    text = re.sub('\\W', ' ', text)\n",
    "    text = re.sub('\\s+', ' ', text)\n",
    "    text = text.strip(' ')\n",
    "    return text"
   ]
  },
  {
   "cell_type": "code",
   "execution_count": 3,
   "metadata": {},
   "outputs": [],
   "source": [
    "df['clean_text'] =[clean_text(text) for text in df['text_string']]"
   ]
  },
  {
   "cell_type": "code",
   "execution_count": 4,
   "metadata": {},
   "outputs": [],
   "source": [
    "def lemmatize_sentence(sentence):\n",
    "    lemmatizer = WordNetLemmatizer()\n",
    "    lemmatized_sentence = []\n",
    "    for word, tag in pos_tag(word_tokenize(sentence)):\n",
    "        if tag.startswith('NN'):\n",
    "            pos = 'n'\n",
    "        elif tag.startswith('VB'):\n",
    "            pos = 'v'\n",
    "        else:\n",
    "            pos = 'a'\n",
    "        lemmatized_sentence.append(lemmatizer.lemmatize(word, pos))\n",
    "    return lemmatized_sentence"
   ]
  },
  {
   "cell_type": "code",
   "execution_count": 27,
   "metadata": {},
   "outputs": [
    {
     "data": {
      "text/html": [
       "<div>\n",
       "<style scoped>\n",
       "    .dataframe tbody tr th:only-of-type {\n",
       "        vertical-align: middle;\n",
       "    }\n",
       "\n",
       "    .dataframe tbody tr th {\n",
       "        vertical-align: top;\n",
       "    }\n",
       "\n",
       "    .dataframe thead th {\n",
       "        text-align: right;\n",
       "    }\n",
       "</style>\n",
       "<table border=\"1\" class=\"dataframe\">\n",
       "  <thead>\n",
       "    <tr style=\"text-align: right;\">\n",
       "      <th></th>\n",
       "      <th>title</th>\n",
       "      <th>genres</th>\n",
       "      <th>director</th>\n",
       "      <th>overview</th>\n",
       "      <th>_overview</th>\n",
       "      <th>text_string</th>\n",
       "      <th>clean_text</th>\n",
       "      <th>text_lemmatize</th>\n",
       "      <th>text_stopword</th>\n",
       "      <th>text_clean</th>\n",
       "    </tr>\n",
       "  </thead>\n",
       "  <tbody>\n",
       "    <tr>\n",
       "      <th>0</th>\n",
       "      <td>Avatar</td>\n",
       "      <td>[Action, Adventure, Fantasy]</td>\n",
       "      <td>James Cameron</td>\n",
       "      <td>In the 22nd century, a paraplegic Marine is di...</td>\n",
       "      <td>in the 22nd century, a paraplegic marine is di...</td>\n",
       "      <td>in the 22nd century a paraplegic marine is dis...</td>\n",
       "      <td>in the 22nd century a paraplegic marine is dis...</td>\n",
       "      <td>[in, the, 22nd, century, a, paraplegic, marine...</td>\n",
       "      <td>[22nd, century, paraplegic, marine, dispatch, ...</td>\n",
       "      <td>22nd century paraplegic marine dispatch moon p...</td>\n",
       "    </tr>\n",
       "  </tbody>\n",
       "</table>\n",
       "</div>"
      ],
      "text/plain": [
       "    title                        genres       director  \\\n",
       "0  Avatar  [Action, Adventure, Fantasy]  James Cameron   \n",
       "\n",
       "                                            overview  \\\n",
       "0  In the 22nd century, a paraplegic Marine is di...   \n",
       "\n",
       "                                           _overview  \\\n",
       "0  in the 22nd century, a paraplegic marine is di...   \n",
       "\n",
       "                                         text_string  \\\n",
       "0  in the 22nd century a paraplegic marine is dis...   \n",
       "\n",
       "                                          clean_text  \\\n",
       "0  in the 22nd century a paraplegic marine is dis...   \n",
       "\n",
       "                                      text_lemmatize  \\\n",
       "0  [in, the, 22nd, century, a, paraplegic, marine...   \n",
       "\n",
       "                                       text_stopword  \\\n",
       "0  [22nd, century, paraplegic, marine, dispatch, ...   \n",
       "\n",
       "                                          text_clean  \n",
       "0  22nd century paraplegic marine dispatch moon p...  "
      ]
     },
     "execution_count": 27,
     "metadata": {},
     "output_type": "execute_result"
    }
   ],
   "source": [
    "df.query(\"title == 'Avatar'\")"
   ]
  },
  {
   "cell_type": "code",
   "execution_count": 24,
   "metadata": {},
   "outputs": [
    {
     "data": {
      "text/plain": [
       "(48030, (4803, 10))"
      ]
     },
     "execution_count": 24,
     "metadata": {},
     "output_type": "execute_result"
    }
   ],
   "source": [
    "df.size,df.shape"
   ]
  },
  {
   "cell_type": "code",
   "execution_count": 5,
   "metadata": {},
   "outputs": [],
   "source": [
    "df['text_lemmatize'] = [lemmatize_sentence(text) for text in df['clean_text']]"
   ]
  },
  {
   "cell_type": "code",
   "execution_count": 6,
   "metadata": {},
   "outputs": [
    {
     "data": {
      "text/plain": [
       "0    [in, the, 22nd, century, a, paraplegic, marine...\n",
       "1    [captain, barbossa, long, believe, to, be, dea...\n",
       "2    [a, cryptic, message, from, bond, s, past, sen...\n",
       "3    [follow, the, death, of, district, attorney, h...\n",
       "4    [john, carter, be, a, warweary, former, milita...\n",
       "Name: text_lemmatize, dtype: object"
      ]
     },
     "execution_count": 6,
     "metadata": {},
     "output_type": "execute_result"
    }
   ],
   "source": [
    "df['text_lemmatize'].head()"
   ]
  },
  {
   "cell_type": "code",
   "execution_count": 7,
   "metadata": {},
   "outputs": [],
   "source": [
    "from nltk.corpus import stopwords\n",
    "\n",
    "stopwords = nltk.corpus.stopwords.words(\"english\")\n",
    "\n",
    "df['text_stopword'] = df['text_lemmatize'].apply(lambda x: [item for item in x if item not in stopwords])"
   ]
  },
  {
   "cell_type": "code",
   "execution_count": 8,
   "metadata": {},
   "outputs": [
    {
     "data": {
      "text/plain": [
       "0    [22nd, century, paraplegic, marine, dispatch, ...\n",
       "1    [captain, barbossa, long, believe, dead, come,...\n",
       "2    [cryptic, message, bond, past, sends, trail, u...\n",
       "3    [follow, death, district, attorney, harvey, de...\n",
       "4    [john, carter, warweary, former, military, cap...\n",
       "Name: text_stopword, dtype: object"
      ]
     },
     "execution_count": 8,
     "metadata": {},
     "output_type": "execute_result"
    }
   ],
   "source": [
    "df['text_stopword'].head()"
   ]
  },
  {
   "cell_type": "markdown",
   "metadata": {},
   "source": [
    "## one-hot 表現化"
   ]
  },
  {
   "cell_type": "code",
   "execution_count": 9,
   "metadata": {},
   "outputs": [],
   "source": [
    "# from sklearn.preprocessing import MultiLabelBinarizer\n",
    "\n",
    "# multilabel_binarizer = MultiLabelBinarizer()\n",
    "# multilabel_binarizer.fit_transform(df['genres'])\n",
    "\n",
    "# y = multilabel_binarizer.transform(df['genres'])\n",
    "\n",
    "# for idx, genre in enumerate(multilabel_binarizer.classes_):\n",
    "#   df[genre] = y[:,idx]"
   ]
  },
  {
   "cell_type": "code",
   "execution_count": 10,
   "metadata": {},
   "outputs": [
    {
     "data": {
      "text/plain": [
       "0    22nd century paraplegic marine dispatch moon p...\n",
       "1    captain barbossa long believe dead come back l...\n",
       "2    cryptic message bond past sends trail uncover ...\n",
       "3    follow death district attorney harvey dent bat...\n",
       "4    john carter warweary former military captain i...\n",
       "Name: text_clean, dtype: object"
      ]
     },
     "execution_count": 10,
     "metadata": {},
     "output_type": "execute_result"
    }
   ],
   "source": [
    "df['text_clean'] = df['text_stopword'].apply(lambda x: ' '.join([item for item in x if len(item)>2]))\n",
    "df['text_clean'].head()"
   ]
  },
  {
   "cell_type": "code",
   "execution_count": 11,
   "metadata": {},
   "outputs": [
    {
     "data": {
      "text/plain": [
       "Index(['title', 'genres', 'director', 'overview', '_overview', 'text_string',\n",
       "       'clean_text', 'text_lemmatize', 'text_stopword', 'text_clean'],\n",
       "      dtype='object')"
      ]
     },
     "execution_count": 11,
     "metadata": {},
     "output_type": "execute_result"
    }
   ],
   "source": [
    "df.columns"
   ]
  },
  {
   "cell_type": "code",
   "execution_count": 12,
   "metadata": {},
   "outputs": [],
   "source": [
    "_df = df.drop(['text_lemmatize','_overview','text_string','clean_text'],axis = 1)"
   ]
  },
  {
   "cell_type": "code",
   "execution_count": 13,
   "metadata": {},
   "outputs": [],
   "source": [
    "_df.to_csv('data_set.csv',index=0)"
   ]
  },
  {
   "cell_type": "code",
   "execution_count": 14,
   "metadata": {},
   "outputs": [
    {
     "data": {
      "text/html": [
       "<div>\n",
       "<style scoped>\n",
       "    .dataframe tbody tr th:only-of-type {\n",
       "        vertical-align: middle;\n",
       "    }\n",
       "\n",
       "    .dataframe tbody tr th {\n",
       "        vertical-align: top;\n",
       "    }\n",
       "\n",
       "    .dataframe thead th {\n",
       "        text-align: right;\n",
       "    }\n",
       "</style>\n",
       "<table border=\"1\" class=\"dataframe\">\n",
       "  <thead>\n",
       "    <tr style=\"text-align: right;\">\n",
       "      <th></th>\n",
       "      <th>title</th>\n",
       "      <th>genres</th>\n",
       "      <th>director</th>\n",
       "      <th>overview</th>\n",
       "      <th>text_stopword</th>\n",
       "      <th>text_clean</th>\n",
       "    </tr>\n",
       "  </thead>\n",
       "  <tbody>\n",
       "    <tr>\n",
       "      <th>0</th>\n",
       "      <td>Avatar</td>\n",
       "      <td>[Action, Adventure, Fantasy]</td>\n",
       "      <td>James Cameron</td>\n",
       "      <td>In the 22nd century, a paraplegic Marine is di...</td>\n",
       "      <td>[22nd, century, paraplegic, marine, dispatch, ...</td>\n",
       "      <td>22nd century paraplegic marine dispatch moon p...</td>\n",
       "    </tr>\n",
       "    <tr>\n",
       "      <th>1</th>\n",
       "      <td>Pirates of the Caribbean: At World's End</td>\n",
       "      <td>[Adventure, Fantasy, Action]</td>\n",
       "      <td>Gore Verbinski</td>\n",
       "      <td>Captain Barbossa, long believed to be dead, ha...</td>\n",
       "      <td>[captain, barbossa, long, believe, dead, come,...</td>\n",
       "      <td>captain barbossa long believe dead come back l...</td>\n",
       "    </tr>\n",
       "    <tr>\n",
       "      <th>2</th>\n",
       "      <td>Spectre</td>\n",
       "      <td>[Action, Adventure, Crime]</td>\n",
       "      <td>Sam Mendes</td>\n",
       "      <td>A cryptic message from Bond’s past sends him o...</td>\n",
       "      <td>[cryptic, message, bond, past, sends, trail, u...</td>\n",
       "      <td>cryptic message bond past sends trail uncover ...</td>\n",
       "    </tr>\n",
       "    <tr>\n",
       "      <th>3</th>\n",
       "      <td>The Dark Knight Rises</td>\n",
       "      <td>[Action, Crime, Drama]</td>\n",
       "      <td>Christopher Nolan</td>\n",
       "      <td>Following the death of District Attorney Harve...</td>\n",
       "      <td>[follow, death, district, attorney, harvey, de...</td>\n",
       "      <td>follow death district attorney harvey dent bat...</td>\n",
       "    </tr>\n",
       "    <tr>\n",
       "      <th>4</th>\n",
       "      <td>John Carter</td>\n",
       "      <td>[Action, Adventure, Science Fiction]</td>\n",
       "      <td>Andrew Stanton</td>\n",
       "      <td>John Carter is a war-weary, former military ca...</td>\n",
       "      <td>[john, carter, warweary, former, military, cap...</td>\n",
       "      <td>john carter warweary former military captain i...</td>\n",
       "    </tr>\n",
       "  </tbody>\n",
       "</table>\n",
       "</div>"
      ],
      "text/plain": [
       "                                      title  \\\n",
       "0                                    Avatar   \n",
       "1  Pirates of the Caribbean: At World's End   \n",
       "2                                   Spectre   \n",
       "3                     The Dark Knight Rises   \n",
       "4                               John Carter   \n",
       "\n",
       "                                 genres           director  \\\n",
       "0          [Action, Adventure, Fantasy]      James Cameron   \n",
       "1          [Adventure, Fantasy, Action]     Gore Verbinski   \n",
       "2            [Action, Adventure, Crime]         Sam Mendes   \n",
       "3                [Action, Crime, Drama]  Christopher Nolan   \n",
       "4  [Action, Adventure, Science Fiction]     Andrew Stanton   \n",
       "\n",
       "                                            overview  \\\n",
       "0  In the 22nd century, a paraplegic Marine is di...   \n",
       "1  Captain Barbossa, long believed to be dead, ha...   \n",
       "2  A cryptic message from Bond’s past sends him o...   \n",
       "3  Following the death of District Attorney Harve...   \n",
       "4  John Carter is a war-weary, former military ca...   \n",
       "\n",
       "                                       text_stopword  \\\n",
       "0  [22nd, century, paraplegic, marine, dispatch, ...   \n",
       "1  [captain, barbossa, long, believe, dead, come,...   \n",
       "2  [cryptic, message, bond, past, sends, trail, u...   \n",
       "3  [follow, death, district, attorney, harvey, de...   \n",
       "4  [john, carter, warweary, former, military, cap...   \n",
       "\n",
       "                                          text_clean  \n",
       "0  22nd century paraplegic marine dispatch moon p...  \n",
       "1  captain barbossa long believe dead come back l...  \n",
       "2  cryptic message bond past sends trail uncover ...  \n",
       "3  follow death district attorney harvey dent bat...  \n",
       "4  john carter warweary former military captain i...  "
      ]
     },
     "execution_count": 14,
     "metadata": {},
     "output_type": "execute_result"
    }
   ],
   "source": [
    "_df.head()"
   ]
  },
  {
   "cell_type": "code",
   "execution_count": null,
   "metadata": {},
   "outputs": [],
   "source": []
  }
 ],
 "metadata": {
  "kernelspec": {
   "display_name": "Python 3.9.12 ('python_env')",
   "language": "python",
   "name": "python3"
  },
  "language_info": {
   "codemirror_mode": {
    "name": "ipython",
    "version": 3
   },
   "file_extension": ".py",
   "mimetype": "text/x-python",
   "name": "python",
   "nbconvert_exporter": "python",
   "pygments_lexer": "ipython3",
   "version": "3.9.12"
  },
  "orig_nbformat": 4,
  "vscode": {
   "interpreter": {
    "hash": "35b290c867abec49e678f0862ea8e735e80ffaf71f968c1382421763d8743a32"
   }
  }
 },
 "nbformat": 4,
 "nbformat_minor": 2
}
